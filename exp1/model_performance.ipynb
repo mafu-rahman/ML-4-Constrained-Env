{
 "cells": [
  {
   "cell_type": "code",
   "execution_count": 2,
   "metadata": {},
   "outputs": [
    {
     "name": "stdout",
     "output_type": "stream",
     "text": [
      "\n",
      "Summary:\n",
      "Total Images Processed: 10000\n",
      "Average Inference Time: 0.089588150644 seconds\n",
      "Accuracy: 79.95%\n"
     ]
    }
   ],
   "source": [
    "import os\n",
    "import requests\n",
    "import time\n",
    "\n",
    "# API endpoint\n",
    "url = \"http://localhost:8000/predict/\"\n",
    "\n",
    "# Base directory for CIFAR-10 images (update this path to your dataset's root directory)\n",
    "base_dir = \"./cifar10_images\"\n",
    "\n",
    "# Initialize metrics\n",
    "total_inference_original_model = 0\n",
    "total_images = 0\n",
    "correct_predictions = 0\n",
    "\n",
    "# Loop through each class folder\n",
    "for class_name in os.listdir(base_dir):\n",
    "    class_path = os.path.join(base_dir, class_name)\n",
    "    if not os.path.isdir(class_path):\n",
    "        continue  # Skip files, we only want directories\n",
    "\n",
    "    # Loop through each image in the class folder\n",
    "    for image_name in os.listdir(class_path):\n",
    "        image_path = os.path.join(class_path, image_name)\n",
    "        if not image_name.lower().endswith(('.png', '.jpg', '.jpeg')):\n",
    "            continue  # Skip non-image files\n",
    "\n",
    "        # Send image to the API\n",
    "        with open(image_path, \"rb\") as f:\n",
    "            files = {\"file\": f}\n",
    "            start_time = time.time()\n",
    "            response = requests.post(url, files=files)\n",
    "            end_time = time.time()\n",
    "\n",
    "            # Process API response\n",
    "            if response.status_code == 200:\n",
    "                data = response.json()\n",
    "                predicted_class = data.get(\"predicted_class\")\n",
    "                confidence = data.get(\"confidence\")\n",
    "                inference_time = data.get(\"inference_time_seconds\")\n",
    "\n",
    "                # Update metrics\n",
    "                total_inference_original_model += inference_time\n",
    "                total_images += 1\n",
    "                if predicted_class == class_name:  # Ground truth is the folder name\n",
    "                    correct_predictions += 1\n",
    "\n",
    "            else:\n",
    "                print(f\"Error processing {image_path}: {response.text}\")\n",
    "\n",
    "# Calculate aggregated metrics\n",
    "average_inference_time_original_model = total_inference_original_model / total_images if total_images > 0 else 0\n",
    "accuracy_original_model = correct_predictions / total_images if total_images > 0 else 0\n",
    "\n",
    "print(\"\\nSummary:\")\n",
    "print(f\"Total Images Processed: {total_images}\")\n",
    "print(f\"Average Inference Time: {average_inference_time_original_model:.12f} seconds\")\n",
    "print(f\"Accuracy: {accuracy_original_model * 100:.2f}%\")\n"
   ]
  },
  {
   "cell_type": "markdown",
   "metadata": {},
   "source": [
    "Total time: 15m 52s\n",
    "Summary:\n",
    "Total Images Processed: 58982\n",
    "Average Inference Time: 0.0104 seconds\n",
    "Accuracy: 82.62%"
   ]
  },
  {
   "cell_type": "markdown",
   "metadata": {},
   "source": [
    "Experiments with PCA Optimized Model - Top 500 Features"
   ]
  },
  {
   "cell_type": "code",
   "execution_count": 3,
   "metadata": {},
   "outputs": [
    {
     "name": "stdout",
     "output_type": "stream",
     "text": [
      "\n",
      "Summary:\n",
      "Total Images Processed: 10000\n",
      "Average Inference Time: 0.010498564553 seconds\n",
      "Accuracy: 69.52%\n"
     ]
    }
   ],
   "source": [
    "import os\n",
    "import requests\n",
    "import time\n",
    "\n",
    "# API endpoint\n",
    "url = \"http://localhost:8001/predict/\"\n",
    "\n",
    "# Base directory for CIFAR-10 images (update this path to your dataset's root directory)\n",
    "base_dir = \"./cifar10_images\"\n",
    "\n",
    "# Initialize metrics\n",
    "total_inference_pca500_model = 0\n",
    "total_images = 0\n",
    "correct_predictions = 0\n",
    "\n",
    "# Loop through each class folder\n",
    "for class_name in os.listdir(base_dir):\n",
    "    class_path = os.path.join(base_dir, class_name)\n",
    "    if not os.path.isdir(class_path):\n",
    "        continue  # Skip files, we only want directories\n",
    "\n",
    "    # Loop through each image in the class folder\n",
    "    for image_name in os.listdir(class_path):\n",
    "        image_path = os.path.join(class_path, image_name)\n",
    "        if not image_name.lower().endswith(('.png', '.jpg', '.jpeg')):\n",
    "            continue  # Skip non-image files\n",
    "\n",
    "        # Send image to the API\n",
    "        with open(image_path, \"rb\") as f:\n",
    "            files = {\"file\": f}\n",
    "            start_time = time.time()\n",
    "            response = requests.post(url, files=files)\n",
    "            end_time = time.time()\n",
    "\n",
    "            # Process API response\n",
    "            if response.status_code == 200:\n",
    "                data = response.json()\n",
    "                predicted_class = data.get(\"predicted_class\")\n",
    "                confidence = data.get(\"confidence\")\n",
    "                inference_time = data.get(\"inference_time_seconds\")\n",
    "\n",
    "                # Update metrics\n",
    "                total_inference_pca500_model += inference_time\n",
    "                total_images += 1\n",
    "                if predicted_class == class_name:  # Ground truth is the folder name\n",
    "                    correct_predictions += 1\n",
    "\n",
    "            else:\n",
    "                print(f\"Error processing {image_path}: {response.text}\")\n",
    "\n",
    "# Calculate aggregated metrics\n",
    "average_inference_time_pca500_model = total_inference_pca500_model / total_images if total_images > 0 else 0\n",
    "accuracy_pca500_model = correct_predictions / total_images if total_images > 0 else 0\n",
    "\n",
    "print(\"\\nSummary:\")\n",
    "print(f\"Total Images Processed: {total_images}\")\n",
    "print(f\"Average Inference Time: {average_inference_time_pca500_model:.12f} seconds\")\n",
    "print(f\"Accuracy: {accuracy_pca500_model * 100:.2f}%\")\n"
   ]
  },
  {
   "cell_type": "markdown",
   "metadata": {},
   "source": [
    "Total time: 15m 34.5s\n",
    "Summary:\n",
    "Total Images Processed: 58982\n",
    "Average Inference Time: 0.0104 seconds\n",
    "Accuracy: 70.53%"
   ]
  },
  {
   "cell_type": "markdown",
   "metadata": {},
   "source": [
    "Experiments with PCA Optimized Model - Top 200 Features"
   ]
  },
  {
   "cell_type": "code",
   "execution_count": 4,
   "metadata": {},
   "outputs": [
    {
     "name": "stdout",
     "output_type": "stream",
     "text": [
      "\n",
      "Summary:\n",
      "Total Images Processed: 10000\n",
      "Average Inference Time: 0.010514026642 seconds\n",
      "Accuracy: 40.13%\n"
     ]
    }
   ],
   "source": [
    "import os\n",
    "import requests\n",
    "import time\n",
    "\n",
    "# API endpoint\n",
    "url = \"http://localhost:8002/predict/\"\n",
    "\n",
    "# Base directory for CIFAR-10 images (update this path to your dataset's root directory)\n",
    "base_dir = \"./cifar10_images\"\n",
    "\n",
    "# Initialize metrics\n",
    "total_inference_pca200_model = 0\n",
    "total_images = 0\n",
    "correct_predictions = 0\n",
    "\n",
    "# Loop through each class folder\n",
    "for class_name in os.listdir(base_dir):\n",
    "    class_path = os.path.join(base_dir, class_name)\n",
    "    if not os.path.isdir(class_path):\n",
    "        continue  # Skip files, we only want directories\n",
    "\n",
    "    # Loop through each image in the class folder\n",
    "    for image_name in os.listdir(class_path):\n",
    "        image_path = os.path.join(class_path, image_name)\n",
    "        if not image_name.lower().endswith(('.png', '.jpg', '.jpeg')):\n",
    "            continue  # Skip non-image files\n",
    "\n",
    "        # Send image to the API\n",
    "        with open(image_path, \"rb\") as f:\n",
    "            files = {\"file\": f}\n",
    "            start_time = time.time()\n",
    "            response = requests.post(url, files=files)\n",
    "            end_time = time.time()\n",
    "\n",
    "            # Process API response\n",
    "            if response.status_code == 200:\n",
    "                data = response.json()\n",
    "                predicted_class = data.get(\"predicted_class\")\n",
    "                confidence = data.get(\"confidence\")\n",
    "                inference_time = data.get(\"inference_time_seconds\")\n",
    "\n",
    "                # Update metrics\n",
    "                total_inference_pca200_model += inference_time\n",
    "                total_images += 1\n",
    "                if predicted_class == class_name:  # Ground truth is the folder name\n",
    "                    correct_predictions += 1\n",
    "\n",
    "            else:\n",
    "                print(f\"Error processing {image_path}: {response.text}\")\n",
    "\n",
    "# Calculate aggregated metrics\n",
    "average_inference_time_pca200_model = total_inference_pca200_model / total_images if total_images > 0 else 0\n",
    "accuracy_pca200_model = correct_predictions / total_images if total_images > 0 else 0\n",
    "\n",
    "print(\"\\nSummary:\")\n",
    "print(f\"Total Images Processed: {total_images}\")\n",
    "print(f\"Average Inference Time: {average_inference_time_pca200_model:.12f} seconds\")\n",
    "print(f\"Accuracy: {accuracy_pca200_model * 100:.2f}%\")\n"
   ]
  },
  {
   "cell_type": "markdown",
   "metadata": {},
   "source": [
    "Total time: 15m 33.1s\n",
    "Summary:\n",
    "Total Images Processed: 58982\n",
    "Average Inference Time: 0.0103 seconds\n",
    "Accuracy: 40.07%"
   ]
  },
  {
   "cell_type": "markdown",
   "metadata": {},
   "source": [
    "Accumulated Metrics"
   ]
  },
  {
   "cell_type": "code",
   "execution_count": 5,
   "metadata": {},
   "outputs": [
    {
     "name": "stdout",
     "output_type": "stream",
     "text": [
      "                Model  Accuracy  Inference Time (s)\n",
      "0          Full Model    0.7995            0.089588\n",
      "1  Top 500 Components    0.6952            0.010499\n",
      "2  Top 200 Components    0.4013            0.010514\n"
     ]
    }
   ],
   "source": [
    "# Collect results\n",
    "results = {\n",
    "    \"Model\": [\"Full Model\", \"Top 500 Components\", \"Top 200 Components\"],\n",
    "    \"Accuracy\": [accuracy_original_model, accuracy_pca500_model, accuracy_pca200_model],\n",
    "    \"Inference Time (s)\": [average_inference_time_original_model, average_inference_time_pca500_model, average_inference_time_pca200_model]\n",
    "}\n",
    "\n",
    "import pandas as pd\n",
    "results_df = pd.DataFrame(results)\n",
    "print(results_df)\n"
   ]
  },
  {
   "cell_type": "code",
   "execution_count": 6,
   "metadata": {},
   "outputs": [
    {
     "data": {
      "image/png": "[encoded data removed]",
      "text/plain": [
       "<Figure size 640x480 with 1 Axes>"
      ]
     },
     "metadata": {},
     "output_type": "display_data"
    },
    {
     "data": {
      "image/png": "[encoded data removed]",
      "text/plain": [
       "<Figure size 640x480 with 1 Axes>"
      ]
     },
     "metadata": {},
     "output_type": "display_data"
    }
   ],
   "source": [
    "import matplotlib.pyplot as plt\n",
    "\n",
    "# Accuracy\n",
    "plt.bar(results_df[\"Model\"], results_df[\"Accuracy\"])\n",
    "plt.title(\"Model Accuracy\")\n",
    "plt.ylabel(\"Accuracy\")\n",
    "plt.xlabel(\"Model\")\n",
    "plt.show()\n",
    "\n",
    "# Inference Time\n",
    "plt.bar(results_df[\"Model\"], results_df[\"Inference Time (s)\"])\n",
    "plt.title(\"Model Inference Time\")\n",
    "plt.ylabel(\"Time (s)\")\n",
    "plt.xlabel(\"Model\")\n",
    "plt.show()\n"
   ]
  }
 ],
 "metadata": {
  "kernelspec": {
   "display_name": "ros_env_2",
   "language": "python",
   "name": "python3"
  },
  "language_info": {
   "codemirror_mode": {
    "name": "ipython",
    "version": 3
   },
   "file_extension": ".py",
   "mimetype": "text/x-python",
   "name": "python",
   "nbconvert_exporter": "python",
   "pygments_lexer": "ipython3",
   "version": "3.10.13"
  }
 },
 "nbformat": 4,
 "nbformat_minor": 2
}
