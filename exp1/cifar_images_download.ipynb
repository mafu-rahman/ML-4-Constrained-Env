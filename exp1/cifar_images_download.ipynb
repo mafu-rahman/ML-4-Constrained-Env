{
 "cells": [
  {
   "cell_type": "code",
   "execution_count": 1,
   "metadata": {},
   "outputs": [
    {
     "name": "stderr",
     "output_type": "stream",
     "text": [
      "2024-12-06 03:44:16.597505: I metal_plugin/src/device/metal_device.cc:1154] Metal device set to: Apple M1\n",
      "2024-12-06 03:44:16.597532: I metal_plugin/src/device/metal_device.cc:296] systemMemory: 8.00 GB\n",
      "2024-12-06 03:44:16.597538: I metal_plugin/src/device/metal_device.cc:313] maxCacheSize: 2.67 GB\n",
      "2024-12-06 03:44:16.597553: I tensorflow/core/common_runtime/pluggable_device/pluggable_device_factory.cc:305] Could not identify NUMA node of platform GPU ID 0, defaulting to 0. Your kernel may not have been built with NUMA support.\n",
      "2024-12-06 03:44:16.597565: I tensorflow/core/common_runtime/pluggable_device/pluggable_device_factory.cc:271] Created TensorFlow device (/job:localhost/replica:0/task:0/device:GPU:0 with 0 MB memory) -> physical PluggableDevice (device: 0, name: METAL, pci bus id: <undefined>)\n"
     ]
    },
    {
     "name": "stdout",
     "output_type": "stream",
     "text": [
      "Saving CIFAR-10 test images locally...\n",
      "Images saved successfully.\n"
     ]
    },
    {
     "name": "stderr",
     "output_type": "stream",
     "text": [
      "2024-12-06 03:44:37.138777: W tensorflow/core/framework/local_rendezvous.cc:404] Local rendezvous is aborting with status: OUT_OF_RANGE: End of sequence\n"
     ]
    }
   ],
   "source": [
    "import tensorflow_datasets as tfds\n",
    "import os\n",
    "import numpy as np\n",
    "from PIL import Image\n",
    "\n",
    "\n",
    "# Load CIFAR-10 dataset\n",
    "(train_ds, test_ds), ds_info = tfds.load('cifar10', split=['train', 'test'], with_info=True, as_supervised=True)\n",
    "\n",
    "# Directory to save images\n",
    "base_dir = \"cifar10_images\"\n",
    "os.makedirs(base_dir, exist_ok=True)\n",
    "\n",
    "# Save test images locally\n",
    "print(\"Saving CIFAR-10 test images locally...\")\n",
    "for idx, (image, label) in enumerate(train_ds.take(1000)):  # Limiting to 1000 images for demonstration\n",
    "    # Convert image tensor to a PIL Image\n",
    "    image = Image.fromarray(np.uint8(image))\n",
    "    \n",
    "    # Create a subdirectory for each class label\n",
    "    label_dir = os.path.join(base_dir, str(label.numpy()))\n",
    "    os.makedirs(label_dir, exist_ok=True)\n",
    "\n",
    "    # Save the image\n",
    "    image_path = os.path.join(label_dir, f\"{idx}.png\")\n",
    "    image.save(image_path)\n",
    "\n",
    "print(\"Images saved successfully.\")\n"
   ]
  },
  {
   "cell_type": "code",
   "execution_count": 1,
   "metadata": {},
   "outputs": [
    {
     "name": "stderr",
     "output_type": "stream",
     "text": [
      "2024-12-11 05:30:50.857436: I metal_plugin/src/device/metal_device.cc:1154] Metal device set to: Apple M1\n",
      "2024-12-11 05:30:50.857467: I metal_plugin/src/device/metal_device.cc:296] systemMemory: 8.00 GB\n",
      "2024-12-11 05:30:50.857473: I metal_plugin/src/device/metal_device.cc:313] maxCacheSize: 2.67 GB\n",
      "2024-12-11 05:30:50.857770: I tensorflow/core/common_runtime/pluggable_device/pluggable_device_factory.cc:305] Could not identify NUMA node of platform GPU ID 0, defaulting to 0. Your kernel may not have been built with NUMA support.\n",
      "2024-12-11 05:30:50.857782: I tensorflow/core/common_runtime/pluggable_device/pluggable_device_factory.cc:271] Created TensorFlow device (/job:localhost/replica:0/task:0/device:GPU:0 with 0 MB memory) -> physical PluggableDevice (device: 0, name: METAL, pci bus id: <undefined>)\n"
     ]
    },
    {
     "name": "stdout",
     "output_type": "stream",
     "text": [
      "Saving CIFAR-10 test images locally...\n",
      "Images saved successfully.\n"
     ]
    },
    {
     "name": "stderr",
     "output_type": "stream",
     "text": [
      "2024-12-11 05:30:55.038658: W tensorflow/core/framework/local_rendezvous.cc:404] Local rendezvous is aborting with status: OUT_OF_RANGE: End of sequence\n"
     ]
    }
   ],
   "source": [
    "import tensorflow_datasets as tfds\n",
    "import os\n",
    "import numpy as np\n",
    "from PIL import Image\n",
    "\n",
    "\n",
    "# Load CIFAR-10 dataset\n",
    "(train_ds, test_ds), ds_info = tfds.load('cifar10', split=['train', 'test'], with_info=True, as_supervised=True)\n",
    "\n",
    "# Directory to save images\n",
    "base_dir = \"cifar10_images\"\n",
    "os.makedirs(base_dir, exist_ok=True)\n",
    "\n",
    "# Save test images locally\n",
    "print(\"Saving CIFAR-10 test images locally...\")\n",
    "for idx, (image, label) in enumerate(test_ds):  # Limiting to 1000 images for demonstration\n",
    "    # Convert image tensor to a PIL Image\n",
    "    image = Image.fromarray(np.uint8(image))\n",
    "    \n",
    "    # Create a subdirectory for each class label\n",
    "    label_dir = os.path.join(base_dir, str(label.numpy()))\n",
    "    os.makedirs(label_dir, exist_ok=True)\n",
    "\n",
    "    # Save the image\n",
    "    image_path = os.path.join(label_dir, f\"{idx}.png\")\n",
    "    image.save(image_path)\n",
    "\n",
    "print(\"Images saved successfully.\")\n"
   ]
  }
 ],
 "metadata": {
  "kernelspec": {
   "display_name": "ros_env_2",
   "language": "python",
   "name": "python3"
  },
  "language_info": {
   "codemirror_mode": {
    "name": "ipython",
    "version": 3
   },
   "file_extension": ".py",
   "mimetype": "text/x-python",
   "name": "python",
   "nbconvert_exporter": "python",
   "pygments_lexer": "ipython3",
   "version": "3.10.13"
  }
 },
 "nbformat": 4,
 "nbformat_minor": 2
}
